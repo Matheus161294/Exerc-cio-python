{
  "nbformat": 4,
  "nbformat_minor": 0,
  "metadata": {
    "colab": {
      "name": "MatheusPereira_Aula1_exercício1_2_3.ipygnb",
      "provenance": [],
      "authorship_tag": "ABX9TyMBFMZK7kfTIfTAGMFSLKle",
      "include_colab_link": true
    },
    "kernelspec": {
      "name": "python3",
      "display_name": "Python 3"
    }
  },
  "cells": [
    {
      "cell_type": "markdown",
      "metadata": {
        "id": "view-in-github",
        "colab_type": "text"
      },
      "source": [
        "<a href=\"https://colab.research.google.com/github/Matheus161294/Exerc-cio-python/blob/master/MatheusPereira_Aula1_exerc%C3%ADcio1_2_3_ipygnb.ipynb\" target=\"_parent\"><img src=\"https://colab.research.google.com/assets/colab-badge.svg\" alt=\"Open In Colab\"/></a>"
      ]
    },
    {
      "cell_type": "code",
      "metadata": {
        "id": "Tn4b90FMtoc-",
        "outputId": "91de9c38-9e7a-4213-a663-5ed7497ca1e5",
        "colab": {
          "base_uri": "https://localhost:8080/",
          "height": 252
        }
      },
      "source": [
        "#Exercício 1\n",
        "print('mundo, mundo, vasto mundo')\n",
        "#Exercício 2\n",
        "help('print')\n",
        "#Exercício 3\n",
        "t = 43+30/60\n",
        "s = 10*1.61\n",
        "print(t/s,'min/miha')"
      ],
      "execution_count": 1,
      "outputs": [
        {
          "output_type": "stream",
          "text": [
            "mundo, mundo, vasto mundo\n",
            "Help on built-in function print in module builtins:\n",
            "\n",
            "print(...)\n",
            "    print(value, ..., sep=' ', end='\\n', file=sys.stdout, flush=False)\n",
            "    \n",
            "    Prints the values to a stream, or to sys.stdout by default.\n",
            "    Optional keyword arguments:\n",
            "    file:  a file-like object (stream); defaults to the current sys.stdout.\n",
            "    sep:   string inserted between values, default a space.\n",
            "    end:   string appended after the last value, default a newline.\n",
            "    flush: whether to forcibly flush the stream.\n",
            "\n",
            "2.701863354037267 min/miha\n"
          ],
          "name": "stdout"
        }
      ]
    }
  ]
}