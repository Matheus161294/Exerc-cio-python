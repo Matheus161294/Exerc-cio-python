{
  "nbformat": 4,
  "nbformat_minor": 0,
  "metadata": {
    "colab": {
      "name": "MatheusPereira_Aula3_Exercícios_1_2_4_5.ipynb",
      "provenance": [],
      "authorship_tag": "ABX9TyNHy9dGtbBpwNwrMmtD4At1",
      "include_colab_link": true
    },
    "kernelspec": {
      "name": "python3",
      "display_name": "Python 3"
    }
  },
  "cells": [
    {
      "cell_type": "markdown",
      "metadata": {
        "id": "view-in-github",
        "colab_type": "text"
      },
      "source": [
        "<a href=\"https://colab.research.google.com/github/Matheus161294/Exerc-cio-python/blob/master/MatheusPereira_Aula3_Exerc%C3%ADcios_1_2_4_5.ipynb\" target=\"_parent\"><img src=\"https://colab.research.google.com/assets/colab-badge.svg\" alt=\"Open In Colab\"/></a>"
      ]
    },
    {
      "cell_type": "code",
      "metadata": {
        "id": "1NE4zdelJ5SN",
        "outputId": "f09123ba-b66a-4d48-9a65-c6361c8a52da",
        "colab": {
          "base_uri": "https://localhost:8080/",
          "height": 235
        }
      },
      "source": [
        "#Exercício 1\n",
        "valoresa=[]\n",
        "def argumento(a):\n",
        "  print(a)\n",
        "  print('o tipo do argumento da função é:',type(valoresa))\n",
        "  valoresa.append(54)\n",
        "argumento('isso é o argumento da função criada')\n",
        "argumento(58)\n",
        "#Exercício 2\n",
        "\n",
        "def velocidade_média():\n",
        "  Pi=float(input('informe a posição inicial'))\n",
        "  Pf=float(input('informe a posição final'))\n",
        "  tp=float(input('ifnforme o tempo decorrido'))\n",
        "  v = (Pf-Pi)/tp\n",
        "  print('a velocidade média é:', v, 'm/s')\n",
        "velocidade_média()\n",
        "def velocidade_final():\n",
        "  t=float(input('ifnforme o tempo decorrido'))\n",
        "  a = 9.81\n",
        "  v=t*a\n",
        "  print('a velocidade final é:',v,'m/s')\n",
        "velocidade_final()\n",
        "#Exercício 3\n",
        "####################\n",
        "#Exercício 4\n",
        "mi=4\n",
        "min = 30\n",
        "s0=0\n",
        "def v_media():\n",
        "  km = 0.9999975145*mi\n",
        "  h = min/60\n",
        "  v = km/h\n",
        "  tm = h/km\n",
        "  print('A velocidade média será de',v,'km/h')\n",
        "  print('O tempo médio será de',tm,'h/km')\n",
        "v_media()\n",
        "#Exercício 5\n",
        "def imc():\n",
        "  massa = 78\n",
        "  altura = 1.74\n",
        "  imc = massa/altura**2\n",
        "  print('meu imc é',imc)\n",
        "imc()"
      ],
      "execution_count": 1,
      "outputs": [
        {
          "output_type": "stream",
          "text": [
            "isso é o argumento da função criada\n",
            "o tipo do argumento da função é: <class 'list'>\n",
            "58\n",
            "o tipo do argumento da função é: <class 'list'>\n",
            "informe a posição inicial10\n",
            "informe a posição final20\n",
            "ifnforme o tempo decorrido2\n",
            "a velocidade média é: 5.0 m/s\n",
            "ifnforme o tempo decorrido45\n",
            "a velocidade final é: 441.45000000000005 m/s\n",
            "A velocidade média será de 7.999980116 km/h\n",
            "O tempo médio será de 0.12500031068827222 h/km\n",
            "meu imc é 25.762980578676178\n"
          ],
          "name": "stdout"
        }
      ]
    }
  ]
}