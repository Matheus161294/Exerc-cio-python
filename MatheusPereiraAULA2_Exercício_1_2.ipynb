{
  "nbformat": 4,
  "nbformat_minor": 0,
  "metadata": {
    "colab": {
      "name": "MatheusPereiraAULA2_Exercício_1_2.ipynb",
      "provenance": [],
      "authorship_tag": "ABX9TyObYQKkacdiGJvHYIBXrLgE",
      "include_colab_link": true
    },
    "kernelspec": {
      "name": "python3",
      "display_name": "Python 3"
    }
  },
  "cells": [
    {
      "cell_type": "markdown",
      "metadata": {
        "id": "view-in-github",
        "colab_type": "text"
      },
      "source": [
        "<a href=\"https://colab.research.google.com/github/Matheus161294/Exerc-cio-python/blob/master/MatheusPereiraAULA2_Exerc%C3%ADcio_1_2.ipynb\" target=\"_parent\"><img src=\"https://colab.research.google.com/assets/colab-badge.svg\" alt=\"Open In Colab\"/></a>"
      ]
    },
    {
      "cell_type": "code",
      "metadata": {
        "id": "UgrZX5-0gAnz",
        "outputId": "405a7c42-d897-4579-d8a1-4b5ef38225f5",
        "colab": {
          "base_uri": "https://localhost:8080/",
          "height": 151
        }
      },
      "source": [
        "import math\n",
        "largura = 17\n",
        "altura =12.0\n",
        "delimitador = '.'\n",
        "print(largura/2)\n",
        "print(largura/2.0)\n",
        "print(altura/3)\n",
        "print(1+2*5)\n",
        "print(delimitador*5)\n",
        "#Exercício 2\n",
        "pi=math.pi\n",
        "r=5\n",
        "V = 4/3*pi*r**3\n",
        "print(V, 'u^3')\n",
        "#Exercício 3\n",
        "Vl = 24.95-24.94*0.4+3+(24.95-24.94*0.4+0.75)*59\n",
        "print(Vl,'reais')\n",
        "#Exercício4\n",
        "lam = 638.8*10**(-9)\n",
        "D = 1.98\n",
        "d = 0.250*10**(-3)\n",
        "y = lam*D/d\n",
        "print(y,'m')"
      ],
      "execution_count": 2,
      "outputs": [
        {
          "output_type": "stream",
          "text": [
            "8.5\n",
            "8.5\n",
            "4.0\n",
            "11\n",
            ".....\n",
            "523.5987755982989 u^3\n",
            "945.6899999999999 reais\n",
            "0.005059296 m\n"
          ],
          "name": "stdout"
        }
      ]
    }
  ]
}