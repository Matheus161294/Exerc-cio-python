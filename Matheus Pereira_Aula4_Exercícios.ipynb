{
  "nbformat": 4,
  "nbformat_minor": 0,
  "metadata": {
    "colab": {
      "name": "Untitled4.ipynb",
      "provenance": [],
      "authorship_tag": "ABX9TyPg/EGNZgyh1T2kcMrGitK2",
      "include_colab_link": true
    },
    "kernelspec": {
      "name": "python3",
      "display_name": "Python 3"
    }
  },
  "cells": [
    {
      "cell_type": "markdown",
      "metadata": {
        "id": "view-in-github",
        "colab_type": "text"
      },
      "source": [
        "<a href=\"https://colab.research.google.com/github/Matheus161294/Exerc-cio-python/blob/master/Matheus%20Pereira_Aula4_Exerc%C3%ADcios.ipynb\" target=\"_parent\"><img src=\"https://colab.research.google.com/assets/colab-badge.svg\" alt=\"Open In Colab\"/></a>"
      ]
    },
    {
      "cell_type": "code",
      "metadata": {
        "id": "EzuHnkjA3pft",
        "outputId": "15842756-1a92-4230-afb4-16ebc21b4015",
        "colab": {
          "base_uri": "https://localhost:8080/"
        }
      },
      "source": [
        "def do_twice(h): \n",
        "    h() \n",
        "    h()\n",
        "    \n",
        "def print_spam(): \n",
        "    print('spam') \n",
        "\n",
        "do_twice(print_spam)"
      ],
      "execution_count": 2,
      "outputs": [
        {
          "output_type": "stream",
          "text": [
            "spam\n",
            "spam\n"
          ],
          "name": "stdout"
        }
      ]
    },
    {
      "cell_type": "code",
      "metadata": {
        "id": "4Qri_do54DoY",
        "outputId": "291c2e64-90cc-4cd0-bb3a-9ff132f31302",
        "colab": {
          "base_uri": "https://localhost:8080/"
        }
      },
      "source": [
        "def do_twice(h, x): \n",
        "    h(x) \n",
        "    h(x)\n",
        "def print_twice(arg):\n",
        "  print(arg)\n",
        "  print(arg) \n",
        "\n",
        "do_twice(print_twice, \"spam\")"
      ],
      "execution_count": 5,
      "outputs": [
        {
          "output_type": "stream",
          "text": [
            "spam\n",
            "spam\n",
            "spam\n",
            "spam\n"
          ],
          "name": "stdout"
        }
      ]
    },
    {
      "cell_type": "code",
      "metadata": {
        "id": "kNHw8PgC4Yo0",
        "outputId": "6ef1b9c0-7f93-4ccd-b33b-53eba15f17c4",
        "colab": {
          "base_uri": "https://localhost:8080/"
        }
      },
      "source": [
        "def do_four(func, x):\n",
        "  print_twice(x)\n",
        "  print_twice(x)\n",
        "\n",
        "do_four(print_twice, \"spam\")"
      ],
      "execution_count": 6,
      "outputs": [
        {
          "output_type": "stream",
          "text": [
            "spam\n",
            "spam\n",
            "spam\n",
            "spam\n"
          ],
          "name": "stdout"
        }
      ]
    }
  ]
}